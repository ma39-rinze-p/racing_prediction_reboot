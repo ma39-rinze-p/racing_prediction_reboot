{
 "cells": [
  {
   "cell_type": "code",
   "execution_count": 0,
   "metadata": {
    "application/vnd.databricks.v1+cell": {
     "cellMetadata": {
      "byteLimit": 2048000,
      "rowLimit": 10000
     },
     "inputWidgets": {},
     "nuid": "d5893336-a302-41ee-88e3-baaecb81ad51",
     "showTitle": false,
     "tableResultSettingsMap": {},
     "title": ""
    }
   },
   "outputs": [],
   "source": [
    "!pip install lxml html5lib beautifulsoup4\n",
    "!restart_python\n",
    "!pip list"
   ]
  },
  {
   "cell_type": "code",
   "execution_count": 0,
   "metadata": {
    "application/vnd.databricks.v1+cell": {
     "cellMetadata": {},
     "inputWidgets": {},
     "nuid": "e15c7a0b-5557-40db-aae8-8fadff778009",
     "showTitle": false,
     "tableResultSettingsMap": {},
     "title": ""
    }
   },
   "outputs": [],
   "source": [
    "# ライブラリ\n",
    "import pandas as pd\n",
    "import requests\n",
    "# パラメータ\n",
    "headers = {\n",
    "    \"User-Agent\": \"Mozilla/5.0 (Windows NT 10.0; Win64; x64) AppleWebKit/537.36 (KHTML, like Gecko) Chrome/120.0.0.0 Safari/537.36\"\n",
    "}"
   ]
  },
  {
   "cell_type": "markdown",
   "metadata": {
    "application/vnd.databricks.v1+cell": {
     "cellMetadata": {},
     "inputWidgets": {},
     "nuid": "6ba14e60-fa89-427d-9e00-48cf047de44f",
     "showTitle": false,
     "tableResultSettingsMap": {},
     "title": ""
    }
   },
   "source": [
    "## テーブルにつけたい情報\n",
    "- レース場\n",
    "- 距離\n",
    "- 馬場状態\n",
    "- 天候\n",
    "- 親馬\n",
    "## 目的変数\n",
    "- １位、２位、３位、その他\n",
    "## モデルはいったん決定木\n",
    "## 使うデータの期間\n",
    "- 学習には、過去３年分のデータを用いて当該週の順位を予測する"
   ]
  },
  {
   "cell_type": "code",
   "execution_count": 0,
   "metadata": {
    "application/vnd.databricks.v1+cell": {
     "cellMetadata": {
      "byteLimit": 2048000,
      "rowLimit": 10000
     },
     "inputWidgets": {},
     "nuid": "b6a0eb0e-7e0b-4e93-bca6-00ea8191a99b",
     "showTitle": false,
     "tableResultSettingsMap": {},
     "title": ""
    }
   },
   "outputs": [],
   "source": [
    "\n",
    "# レース結果の読み込み\n",
    "url_race_result = \"https://db.netkeiba.com/race/202308030411/\"\n",
    "response_race_result = requests.get(url_race_result, headers=headers)\n",
    "response_race_result.raise_for_status()\n",
    "response_race_result.encoding = response_race_result.apparent_encoding\n",
    "df_race_result = pd.read_html(response_race_result.text)[0]\n",
    "display(df_race_result)"
   ]
  },
  {
   "cell_type": "code",
   "execution_count": 0,
   "metadata": {
    "application/vnd.databricks.v1+cell": {
     "cellMetadata": {
      "byteLimit": 2048000,
      "rowLimit": 10000
     },
     "inputWidgets": {},
     "nuid": "ab871246-f11b-4c74-9281-979c1ab5d671",
     "showTitle": false,
     "tableResultSettingsMap": {},
     "title": ""
    }
   },
   "outputs": [],
   "source": [
    "# 馬の血統情報の読み込み\n",
    "url_horse_ped = \"https://db.netkeiba.com/horse/ped/2020103242/\"\n",
    "response_horse_ped = requests.get(url_horse_ped, headers=headers)\n",
    "response_horse_ped.raise_for_status()\n",
    "response_horse_ped.encoding = response_horse_ped.apparent_encoding\n",
    "df_horse_ped = pd.read_html(response_horse_ped.text)[0]\n",
    "display(df_horse_ped)"
   ]
  }
 ],
 "metadata": {
  "application/vnd.databricks.v1+notebook": {
   "computePreferences": {
    "hardware": {
     "accelerator": null,
     "gpuPoolId": null,
     "memory": null
    }
   },
   "dashboards": [],
   "environmentMetadata": {
    "base_environment": "",
    "environment_version": "3"
   },
   "inputWidgetPreferences": null,
   "language": "python",
   "notebookMetadata": {
    "pythonIndentUnit": 4
   },
   "notebookName": "extruct_race_data.ipynb",
   "widgets": {}
  },
  "language_info": {
   "name": "python"
  }
 },
 "nbformat": 4,
 "nbformat_minor": 0
}
